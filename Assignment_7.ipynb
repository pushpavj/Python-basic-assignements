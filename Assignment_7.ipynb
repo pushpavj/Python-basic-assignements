{
 "cells": [
  {
   "cell_type": "code",
   "execution_count": null,
   "metadata": {},
   "outputs": [],
   "source": [
    "1. What is the name of the feature responsible for generating Regex objects?\n",
    "Ans: re.compile() is feature responsible for generation regular expressions objects"
   ]
  },
  {
   "cell_type": "code",
   "execution_count": null,
   "metadata": {},
   "outputs": [],
   "source": [
    "2. Why do raw strings often appear in Regex objects?\n",
    "Ans: Raw string allows to treat the string as it is for any escape characters such as \\t \\n\n",
    "    instead of treating them as escape charcters. Since regex is to generate the objects\n",
    "    based on the particular patterns inside the string, hence it requires to treat escape\n",
    "    charcters as normal characters as it is mor often."
   ]
  },
  {
   "cell_type": "code",
   "execution_count": 2,
   "metadata": {},
   "outputs": [],
   "source": [
    "3. What is the return value of the search() method?\n",
    "Ans:Search() returns the span details of the first occrrence of the match inside the given string."
   ]
  },
  {
   "cell_type": "code",
   "execution_count": 9,
   "metadata": {},
   "outputs": [
    {
     "name": "stdout",
     "output_type": "stream",
     "text": [
      "<re.Match object; span=(4, 7), match='Abc'>\n"
     ]
    }
   ],
   "source": [
    "import re\n",
    "my_string='ABC Abc ABCD ABcd Abcdegh'\n",
    "pattern=re.compile('Abc')\n",
    "matches=pattern.search(my_string)\n",
    "print(matches)"
   ]
  },
  {
   "cell_type": "code",
   "execution_count": null,
   "metadata": {},
   "outputs": [],
   "source": [
    "4. From a Match item, how do you get the actual strings that match the pattern?\n",
    "Ans:By printing match item with using group() method we can get the actual strings \n",
    "    that match the pattern."
   ]
  },
  {
   "cell_type": "code",
   "execution_count": 14,
   "metadata": {},
   "outputs": [
    {
     "name": "stdout",
     "output_type": "stream",
     "text": [
      "Abc\n",
      "(4, 7)\n",
      "4\n",
      "7\n"
     ]
    }
   ],
   "source": [
    "import re\n",
    "my_string=r'ABC Abc ABCD ABcd Abcdegh'\n",
    "pattern=re.compile('Abc')\n",
    "matches=pattern.search(my_string)\n",
    "print(matches.group())\n",
    "print(matches.span())\n",
    "print(matches.start())\n",
    "print(matches.end())"
   ]
  },
  {
   "cell_type": "code",
   "execution_count": null,
   "metadata": {},
   "outputs": [],
   "source": [
    "5. In the regex which created from the r'(\\d\\d\\d)-(\\d\\d\\d-\\d\\d\\d\\d)', \n",
    "what does group zero cover? Group 2? Group 1?\n",
    "Ans:Group zero covers the return of entire matching pattern (\\d\\d\\d)-(\\d\\d\\d-\\d\\d\\d\\d)\n",
    "    Group 2 covers the return of second group matching pattern (\\d\\d\\d-\\d\\d\\d\\d)\n",
    "    Group 1 covers the return of 1st group matching pattern (\\d\\d\\d)"
   ]
  },
  {
   "cell_type": "code",
   "execution_count": 16,
   "metadata": {},
   "outputs": [
    {
     "name": "stdout",
     "output_type": "stream",
     "text": [
      "123-456-7899\n",
      "123\n",
      "456-7899\n"
     ]
    }
   ],
   "source": [
    "my_string=\"abc1234 pqrs45 xyzijk555 123-456-78990\"\n",
    "pattern=re.compile(r'(\\d\\d\\d)-(\\d\\d\\d-\\d\\d\\d\\d)')\n",
    "matches=pattern.search(my_string)\n",
    "\n",
    "print(matches.group(0))\n",
    "print(matches.group(1))\n",
    "print(matches.group(2))"
   ]
  },
  {
   "cell_type": "code",
   "execution_count": null,
   "metadata": {},
   "outputs": [],
   "source": [
    "6. In standard expression syntax, parentheses and intervals have distinct meanings.\n",
    "How can you tell a regex that you want it to fit real parentheses and periods?\n",
    "Ans:We can tell a regex that we want it to fit real parentheses amd periods by using the \\ escape\n",
    "    charcter inside the regex pattern expresson."
   ]
  },
  {
   "cell_type": "code",
   "execution_count": 17,
   "metadata": {},
   "outputs": [
    {
     "name": "stdout",
     "output_type": "stream",
     "text": [
      "<re.Match object; span=(8, 16), match='(pqrs45)'>\n",
      "<re.Match object; span=(17, 27), match='xyzijk555.'>\n"
     ]
    }
   ],
   "source": [
    "my_string=\"abc1234 (pqrs45) xyzijk555. 123-456-78990\"\n",
    "pattern=re.compile(r\"(\\([a-z0-9]+\\))|([a-z0-9]+\\.)\")\n",
    "matches=pattern.finditer(my_string)\n",
    "for match in matches:\n",
    "    print(match)\n"
   ]
  },
  {
   "cell_type": "code",
   "execution_count": null,
   "metadata": {},
   "outputs": [],
   "source": [
    "7. The findall() method returns a string list or a list of string tuples. \n",
    "What causes it to return one of the two options?\n",
    "Ans: If the pattern includes 2 or more parenthesis groups, then instead of returning a \n",
    "    list of strings, findall() returns a list of *tuples*. If the pattern includes \n",
    "    a single set of parenthesis, then findall() returns a list of strings corresponding\n",
    "    to that single group. This is because if the pattern has more than one group then\n",
    "    it returns result for both the groups for each occurrence of the matching group in terms\n",
    "    of list of tuples."
   ]
  },
  {
   "cell_type": "code",
   "execution_count": 19,
   "metadata": {},
   "outputs": [
    {
     "name": "stdout",
     "output_type": "stream",
     "text": [
      "['river', 'river', 'river']\n"
     ]
    }
   ],
   "source": [
    "mystring='''The Alaknanda is a Himalayan river in the Indian state of Uttarakhand \n",
    "and one of the two headstreams of the Ganges, the major river of Northern India and\n",
    "the holy river of Hinduism. In hydrology, the Alaknanda is considered the source stream \n",
    "of the Ganges on account of its greater length and discharge;[1] however, in Hindu \n",
    "tradition and culture, the other headstream, the Bhagirathi, is considered the source stream.'''\n",
    "pattern=re.compile(r\"river\")\n",
    "matches=pattern.findall(mystring)\n",
    "print(matches)"
   ]
  },
  {
   "cell_type": "code",
   "execution_count": 22,
   "metadata": {},
   "outputs": [
    {
     "name": "stdout",
     "output_type": "stream",
     "text": [
      "[('river', ''), ('', 'two'), ('river', ''), ('river', '')]\n"
     ]
    }
   ],
   "source": [
    "mystring='''The Alaknanda is a Himalayan river in the Indian state of Uttarakhand \n",
    "and one of the two headstreams of the Ganges, the major river of Northern India and\n",
    "the holy river of Hinduism. In hydrology, the Alaknanda is considered the source stream \n",
    "of the Ganges on account of its greater length and discharge;[1] however, in Hindu \n",
    "tradition and culture, the other headstream, the Bhagirathi, is considered the source stream.'''\n",
    "pattern=re.compile(r\"(river)|(two)\")\n",
    "matches=pattern.findall(mystring)\n",
    "print(matches)"
   ]
  },
  {
   "cell_type": "code",
   "execution_count": null,
   "metadata": {},
   "outputs": [],
   "source": [
    "8. In standard expressions, what does the | character mean?\n",
    "Ans: In standar expression, | means bitwise or "
   ]
  },
  {
   "cell_type": "code",
   "execution_count": 29,
   "metadata": {},
   "outputs": [
    {
     "name": "stdout",
     "output_type": "stream",
     "text": [
      "2\n"
     ]
    }
   ],
   "source": [
    "a=2\n",
    "b=5\n",
    "if a|b:\n",
    "    print(a)"
   ]
  },
  {
   "cell_type": "code",
   "execution_count": 31,
   "metadata": {},
   "outputs": [],
   "source": [
    "9. In regular expressions, what does the | character stand for?\n",
    "Ans: In regular expressions | stands for logical or"
   ]
  },
  {
   "cell_type": "code",
   "execution_count": null,
   "metadata": {},
   "outputs": [],
   "source": [
    "10.In regular expressions, what is the difference between the + and * characters?\n",
    "Ans: + Returns minimum 1 or more matching results\n",
    "     * Returns minimum 0 or more matching results"
   ]
  },
  {
   "cell_type": "code",
   "execution_count": null,
   "metadata": {},
   "outputs": [],
   "source": [
    "11. What is the difference between {4} and {4,5} in regular expression?\n",
    "Ans: {4} - is quantitative operator tells that return exactly 4 quatities\n",
    "     {4,5}-is quantitative operator that returns either exactly 4 quantities or exactly 5 quantities"
   ]
  },
  {
   "cell_type": "code",
   "execution_count": null,
   "metadata": {},
   "outputs": [],
   "source": [
    "12. What do you mean by the \\d, \\w, and \\s shorthand character classes signify\n",
    "in regular expressions?\n",
    "Ans: \\d means return any matching signle digit between 0-9\n",
    "     \\w means return any matching single alpha numeric character a-z,A-Z,0-9,_\n",
    "     \\s means return any matching signle white space character blank, \\n,\\t etc"
   ]
  },
  {
   "cell_type": "code",
   "execution_count": null,
   "metadata": {},
   "outputs": [],
   "source": [
    "13. What do means by \\D, \\W, and \\S shorthand character classes signify in regular expressions?\n",
    "Ans: \\D means return any matching single non digit character occurrence\n",
    "     \\W mean return any matching signle character other than alpha numeric and _\n",
    "    \\S means return any matching signle non white space charater i.e other than blank, \\n \\t"
   ]
  },
  {
   "cell_type": "code",
   "execution_count": null,
   "metadata": {},
   "outputs": [],
   "source": [
    "14. What is the difference between .*? and .*?\n",
    "Ans: Question is wrong as .*? and .*? both same given\n",
    "    Meaning of .*? is return any signle character for 0 or more times or just single character as \n",
    "    * is optional "
   ]
  },
  {
   "cell_type": "code",
   "execution_count": null,
   "metadata": {},
   "outputs": [],
   "source": [
    "15. What is the syntax for matching both numbers and lowercase letters with a character class?\n",
    "Ans.[a-z0-9]+ in regex is for matching both number and lowercase letters with a character class "
   ]
  },
  {
   "cell_type": "code",
   "execution_count": null,
   "metadata": {},
   "outputs": [],
   "source": [
    "16. What is the procedure for making a normal expression in regax case insensitive?\n",
    "Ans.By passing re.I as second argument while defining the pattern compile. Whre re.I is for\n",
    "    IGNORECASE"
   ]
  },
  {
   "cell_type": "code",
   "execution_count": null,
   "metadata": {},
   "outputs": [],
   "source": [
    "17. What does the . character normally match? What does it match if re.DOTALL is passed \n",
    "as 2nd argument in re.compile()?\n",
    "Ans:. charcter normally match any charcter except \\n. If re.DOTALL is passed as 2nd argument\n",
    "    in re.compile() then it match any character even including \\n"
   ]
  },
  {
   "cell_type": "code",
   "execution_count": null,
   "metadata": {},
   "outputs": [],
   "source": [
    "18. If numReg = re.compile(r'\\d+'), what will numRegex.sub\n",
    "('X', '11 drummers, 10 pipers,five rings, 4 hen') return?\n",
    "Ans:It replaces each continiuos digits with X in the given string"
   ]
  },
  {
   "cell_type": "code",
   "execution_count": 34,
   "metadata": {},
   "outputs": [
    {
     "data": {
      "text/plain": [
       "'X drummers, X pipers,five rings, X hen'"
      ]
     },
     "execution_count": 34,
     "metadata": {},
     "output_type": "execute_result"
    }
   ],
   "source": [
    "numRegx= re.compile(r'\\d+')\n",
    "numRegx.sub('X', '11 drummers, 10 pipers,five rings, 4 hen')"
   ]
  },
  {
   "cell_type": "code",
   "execution_count": null,
   "metadata": {},
   "outputs": [],
   "source": [
    "19. What does passing re.VERBOSE as the 2nd argument to re.compile() allow to do?\n",
    "Ans:Having re.VERBOSE as the 2nd argument to re.compile() allow us to code the regex\n",
    "    pattern in multiple lines and also allow us to add comments while coding each line regex.\n",
    "    This increases the code readability and understandability\n"
   ]
  },
  {
   "cell_type": "code",
   "execution_count": null,
   "metadata": {},
   "outputs": [],
   "source": [
    "20. How would you write a regex that match a number with comma for every three digits? It must match the given following:\n",
    "'42'\n",
    "'1,234'\n",
    "'6,368,745'\n",
    "but not the following:\n",
    "'12,34,567' (which has only two digits between the commas)\n",
    "'1234' (which lacks commas)\n",
    "Ans:pattern=re.compile(r'[0-9]{3},')"
   ]
  },
  {
   "cell_type": "code",
   "execution_count": 37,
   "metadata": {},
   "outputs": [
    {
     "name": "stdout",
     "output_type": "stream",
     "text": [
      "<re.Match object; span=(2, 6), match='368,'>\n"
     ]
    }
   ],
   "source": [
    "pattern=re.compile(r'[0-9]{3},')\n",
    "matches=pattern.finditer('6,368,745')\n",
    "for match in matches:\n",
    "    print(match)"
   ]
  },
  {
   "cell_type": "code",
   "execution_count": null,
   "metadata": {},
   "outputs": [],
   "source": [
    "21. How would you write a regex that matches the full name of someone whose last name is Watanabe? You can assume that the first name that comes before it will always be one word that begins with a capital letter. The regex must match the following:\n",
    "'Haruto Watanabe'\n",
    "'Alice Watanabe'\n",
    "'RoboCop Watanabe'\n",
    "but not the following:\n",
    "'haruto Watanabe' (where the first name is not capitalized)\n",
    "'Mr. Watanabe' (where the preceding word has a nonletter character)\n",
    "'Watanabe' (which has no first name)\n",
    "'Haruto watanabe' (where Watanabe is not capitalized)\n",
    "\n",
    "Ans:pattern=re.compile(r'[A-Z]([a-z]+) Watanabe')"
   ]
  },
  {
   "cell_type": "code",
   "execution_count": 45,
   "metadata": {},
   "outputs": [
    {
     "name": "stdout",
     "output_type": "stream",
     "text": [
      "Haruto Watanabe <re.Match object; span=(0, 15), match='Haruto Watanabe'>\n",
      "Alice Watanabe <re.Match object; span=(0, 14), match='Alice Watanabe'>\n",
      "RoboCop Watanabe <re.Match object; span=(4, 16), match='Cop Watanabe'>\n"
     ]
    }
   ],
   "source": [
    "string= [\n",
    "'Haruto Watanabe',\n",
    "'Alice Watanabe',\n",
    "'RoboCop Watanabe',\n",
    "'haruto Watanabe',\n",
    "'Mr. Watanabe',\n",
    "'Watanabe',\n",
    "'Haruto watanabe'\n",
    "]\n",
    "pattern=re.compile(r'[A-Z]([a-z]+) Watanabe')\n",
    "for i in string:\n",
    "    matches=pattern.finditer(i)\n",
    "    for match in matches:\n",
    "        print(i, match)"
   ]
  },
  {
   "cell_type": "code",
   "execution_count": null,
   "metadata": {},
   "outputs": [],
   "source": [
    "22. How would you write a regex that matches a sentence where the first word\n",
    "is either Alice, Bob, or Carol; the second word is either eats, pets, or throws; \n",
    "the third word is apples, cats, or baseballs; and the sentence ends with a period?\n",
    "This regex should be case-insensitive. It must match the following:\n",
    "'Alice eats apples.'\n",
    "'Bob pets cats.'\n",
    "'Carol throws baseballs.'\n",
    "'Alice throws Apples.'\n",
    "'BOB EATS CATS.'\n",
    "but not the following:\n",
    "'RoboCop eats apples.'\n",
    "'ALICE THROWS FOOTBALLS.'\n",
    "'Carol eats 7 cats.'\n",
    "Ans:pattern=re.compile(r'(Alice|Bob|Carol) (throws|pets|eats) (apples|cats|baseballs)\\.',re.I)"
   ]
  },
  {
   "cell_type": "code",
   "execution_count": 46,
   "metadata": {},
   "outputs": [
    {
     "name": "stdout",
     "output_type": "stream",
     "text": [
      "<re.Match object; span=(0, 18), match='Alice eats apples.'>\n",
      "<re.Match object; span=(18, 32), match='Bob pets cats.'>\n",
      "<re.Match object; span=(32, 55), match='Carol throws baseballs.'>\n",
      "<re.Match object; span=(55, 75), match='Alice throws Apples.'>\n",
      "<re.Match object; span=(75, 89), match='BOB EATS CATS.'>\n"
     ]
    }
   ],
   "source": [
    "string=['Alice eats apples.'\n",
    "'Bob pets cats.'\n",
    "'Carol throws baseballs.'\n",
    "'Alice throws Apples.'\n",
    "'BOB EATS CATS.'\n",
    "'RoboCop eats apples.'\n",
    "'ALICE THROWS FOOTBALLS.'\n",
    "'Carol eats 7 cats.'   \n",
    "]\n",
    "pattern=re.compile(r'(Alice|Bob|Carol) (throws|pets|eats) (apples|cats|baseballs)\\.',re.I)\n",
    "for i in string:\n",
    "    matches=pattern.finditer(i)\n",
    "    for match in matches:\n",
    "        print(match)\n",
    "                   "
   ]
  },
  {
   "cell_type": "code",
   "execution_count": null,
   "metadata": {},
   "outputs": [],
   "source": []
  }
 ],
 "metadata": {
  "kernelspec": {
   "display_name": "Python 3",
   "language": "python",
   "name": "python3"
  },
  "language_info": {
   "codemirror_mode": {
    "name": "ipython",
    "version": 3
   },
   "file_extension": ".py",
   "mimetype": "text/x-python",
   "name": "python",
   "nbconvert_exporter": "python",
   "pygments_lexer": "ipython3",
   "version": "3.7.6"
  }
 },
 "nbformat": 4,
 "nbformat_minor": 4
}
