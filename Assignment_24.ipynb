{
 "cells": [
  {
   "cell_type": "code",
   "execution_count": null,
   "metadata": {},
   "outputs": [],
   "source": [
    "1. What is the relationship between def statements and lambda expressions ?\n",
    "Ans:def statements allows us to define the functions and lambda is also known for creating\n",
    "    anonimus funtions without def statments. Using lambda functions we can make certain set\n",
    "    of repetative code inside the module as instant function and use it as a function within the \n",
    "    module."
   ]
  },
  {
   "cell_type": "code",
   "execution_count": null,
   "metadata": {},
   "outputs": [],
   "source": [
    "2. What is the benefit of lambda?\n",
    "Ans:Using lambda functions we can make certain set of repetative code inside the module\n",
    "    as instant function and use it as a function within the module.It will be easy to \n",
    "    code lambda functions for single line function expressions instead of defining the\n",
    "    seperate function with function name."
   ]
  },
  {
   "cell_type": "code",
   "execution_count": null,
   "metadata": {},
   "outputs": [],
   "source": [
    "3. Compare and contrast map, filter, and reduce.\n",
    "Ans:\n",
    "map: map(fun,sequence), what the map does is for the each item in the sequence(iterable object)\n",
    "    it will call the function with passing the item as argument to the funtion and gives final\n",
    "    result as iterable object containing the return value from function for each item. \n",
    "    map() can be used when we want to call a function repeateadly for a set of elements, so \n",
    "    instead of calling function seperately for each item again and again we can simply use\n",
    "    map() to do the purpose.\n",
    "filter:filter(fun,sequence) what the filter does is for each item in the sequnce(iterable object)\n",
    "    it will call the function with passing the item as argument to the function and gives filte\n",
    "    red results for only those items which results as true in the function.\n",
    "    filter() can be used when we want to call a function reqpeatedly for set of elements\n",
    "    but we want to select the rusults only for those elements which satisfies given condition.\n",
    "reduce: reduce(fun,sequence), what the reduce does is it calls the function with 2 parameters,\n",
    "    then in order to pass 2 parameter values to the function from the sequence, first it \n",
    "    passes first 2 items in the sequence to function and then it starts accumulating the\n",
    "    result of the function and in the next iteration it will pass accumulated value as 1st\n",
    "    parameter and next item in the sequece as 2nd parameter to the function and again\n",
    "    it will accumulate the function resulst. It will keep on repeating above step till\n",
    "    the end of sequence and finally it will give the result as one final acumulated result\n",
    "    from the function. \n",
    "    reduce() can be used when ever we want a cumulative out put of function for set of elements.\n",
    "    "
   ]
  },
  {
   "cell_type": "code",
   "execution_count": null,
   "metadata": {},
   "outputs": [],
   "source": [
    "4. What are function annotations, and how are they used?\n",
    "Ans:\n",
    "Function annotations are completely optional both for parameters and return value.\n",
    "Function annotations provide a way of associating various parts of a function with arbitrary \n",
    "python expressions at compile time.\n",
    "The annotations for parameters take the following form −\n",
    "def fun(positional-parameter,keyword-parameter):\n",
    "Whereas the annotations for excess parameters are as −\n",
    "def fun(**args, **kwargs):"
   ]
  },
  {
   "cell_type": "code",
   "execution_count": null,
   "metadata": {},
   "outputs": [],
   "source": [
    "5.What are recursive functions, and how are they used?\n",
    "Ans:It is a method in which a function calls itself generally with smaller inputs.\n",
    "    \n",
    "i.e. it is like this\n",
    "f(n)is a function which was called with n as input at first time -then the same \n",
    "function is going to be called with f(n-1) in the second time then again as f(n-3)......\n",
    "These recursion calls will be stored in a stalk as f(n) f(n-1) f(n-2)\n",
    "\n",
    "We use recrusion when we have a choices and on the bases of these choices we are going to make \n",
    "decision.\n",
    "if you have f(n)->f(n-1)-f(n-2). When you are calling recursive function you need return back\n",
    "to get the output from that. And to return back you need base condtion which one holds true\n",
    "will return to its parent function. If there are no base conditions that function will run into\n",
    "infinite"
   ]
  },
  {
   "cell_type": "code",
   "execution_count": null,
   "metadata": {},
   "outputs": [],
   "source": [
    "6. What are some general design guidelines for coding functions?\n",
    "Ans:\n",
    "1. The function should start with def followed by a function name ending with: as a first line\n",
    "    while defining the function. The next statments should have proper indentations.\n",
    "2. The function should not be of empty function. If nothing to be performed by a function we need\n",
    "   to use pass statement.\n",
    "3. The defining the parameters to function and return statement is optional.\n",
    "   If you are mentioning the parameters all positional parameters must be defined first before\n",
    "   any key word parameters.\n",
    "4. When you are calling a function with parameters in it then you must pass the respective \n",
    "   arguments.\n"
   ]
  },
  {
   "cell_type": "code",
   "execution_count": null,
   "metadata": {},
   "outputs": [],
   "source": [
    "7. Name three or more ways that functions can communicate results to a caller.\n",
    "Ans:\n",
    "    a)Through print statements within function\n",
    "    b)Through return statments within function\n",
    "    c)Through yield statments within function"
   ]
  },
  {
   "cell_type": "code",
   "execution_count": null,
   "metadata": {},
   "outputs": [],
   "source": []
  },
  {
   "cell_type": "code",
   "execution_count": null,
   "metadata": {},
   "outputs": [],
   "source": []
  },
  {
   "cell_type": "code",
   "execution_count": null,
   "metadata": {},
   "outputs": [],
   "source": []
  },
  {
   "cell_type": "code",
   "execution_count": null,
   "metadata": {},
   "outputs": [],
   "source": []
  },
  {
   "cell_type": "code",
   "execution_count": null,
   "metadata": {},
   "outputs": [],
   "source": []
  },
  {
   "cell_type": "code",
   "execution_count": null,
   "metadata": {},
   "outputs": [],
   "source": []
  },
  {
   "cell_type": "code",
   "execution_count": null,
   "metadata": {},
   "outputs": [],
   "source": []
  },
  {
   "cell_type": "code",
   "execution_count": null,
   "metadata": {},
   "outputs": [],
   "source": []
  },
  {
   "cell_type": "code",
   "execution_count": null,
   "metadata": {},
   "outputs": [],
   "source": []
  },
  {
   "cell_type": "code",
   "execution_count": null,
   "metadata": {},
   "outputs": [],
   "source": []
  },
  {
   "cell_type": "code",
   "execution_count": null,
   "metadata": {},
   "outputs": [],
   "source": []
  },
  {
   "cell_type": "code",
   "execution_count": null,
   "metadata": {},
   "outputs": [],
   "source": []
  },
  {
   "cell_type": "code",
   "execution_count": null,
   "metadata": {},
   "outputs": [],
   "source": []
  }
 ],
 "metadata": {
  "kernelspec": {
   "display_name": "Python 3",
   "language": "python",
   "name": "python3"
  },
  "language_info": {
   "codemirror_mode": {
    "name": "ipython",
    "version": 3
   },
   "file_extension": ".py",
   "mimetype": "text/x-python",
   "name": "python",
   "nbconvert_exporter": "python",
   "pygments_lexer": "ipython3",
   "version": "3.7.6"
  }
 },
 "nbformat": 4,
 "nbformat_minor": 4
}
