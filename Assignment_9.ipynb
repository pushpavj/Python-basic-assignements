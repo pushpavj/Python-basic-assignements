{
 "cells": [
  {
   "cell_type": "code",
   "execution_count": null,
   "metadata": {},
   "outputs": [],
   "source": [
    "1. To what does a relative path refer?\n",
    "Ans:Relative path means, path with respect to current working directory.\n",
    "A relative path refers to a location that is relative to a current directory. \n",
    "Relative paths make use of two special symbols, a dot (.) and a double-dot (..),\n",
    "which translate into the current directory and the parent directory.\n",
    "Double dots are used for moving up in the hierarchy.\n",
    "A single dot represents the current directory itself."
   ]
  },
  {
   "cell_type": "code",
   "execution_count": null,
   "metadata": {},
   "outputs": [],
   "source": [
    "2. What does an absolute path start with your operating system?\n",
    "Ans: Aboslute file path is the complete path of the file from starting\n",
    "    to end through which we can access the file directly.\n",
    "    An absolute file path describes how to access a given file or directory, \n",
    "    starting from the root of the file system. A file path is also called a pathname.\n",
    "    In a sense, whenever you use a relative file path, it is joined with your current directory to \n",
    "    create an absolute file path. \n",
    "    An absolute path start with drive names such as C:\\, D:\\ etc in our operating system"
   ]
  },
  {
   "cell_type": "code",
   "execution_count": null,
   "metadata": {},
   "outputs": [],
   "source": [
    "3. What do the functions os.getcwd() and os.chdir() do?\n",
    "Ans:os.getcwd() gives the current working directory path.i.e.absolute path of the \n",
    "    folder in which I have openned the jupyternote book.\n",
    "    os.chdir() using this method we can change the my current working directory to different\n",
    "    one. Once we change our current working directory what ever file creations/deletions\n",
    "    operations through my program will be done in new changed directory instead of where\n",
    "    my jupyternote book is opened."
   ]
  },
  {
   "cell_type": "code",
   "execution_count": null,
   "metadata": {},
   "outputs": [],
   "source": [
    "4. What are the . and .. folders?\n",
    "Ans:Relative paths make use of two special symbols, a dot (.) and a double-dot (..),\n",
    "which translate into the current directory and the parent directory.\n",
    "Double dots are used for moving up in the hierarchy.\n",
    "A single dot represents the current directory itself."
   ]
  },
  {
   "cell_type": "code",
   "execution_count": null,
   "metadata": {},
   "outputs": [],
   "source": [
    "5. In C:\\bacon\\eggs\\spam.txt, which part is the dir name, and which part is the base name?\n",
    "Ans:Dir name is C:\\bacon\\eggs \n",
    "    base name is spam.txt"
   ]
  },
  {
   "cell_type": "code",
   "execution_count": null,
   "metadata": {},
   "outputs": [],
   "source": [
    "6. What are the three “mode” arguments that can be passed to the open() function?\n",
    "Ans:mode 'r'- for reading\n",
    "    mode 'w'- for writing\n",
    "    mode 'a'- for appending\n",
    "    \n",
    "'r'       open for reading (default)\n",
    "'w'       open for writing, truncating the file first\n",
    "'x'       create a new file and open it for writing\n",
    "'a'       open for writing, appending to the end of the file if it exists\n",
    "'b'       binary mode\n",
    "'t'       text mode (default)\n",
    "'+'       open a disk file for updating (reading and writing)\n",
    "'U'       universal newline mode (deprecated)"
   ]
  },
  {
   "cell_type": "code",
   "execution_count": null,
   "metadata": {},
   "outputs": [],
   "source": [
    "7. What happens if an existing file is opened in write mode?\n",
    "Ans: It will trunkate the existing content of the file and overwrite with the new data."
   ]
  },
  {
   "cell_type": "code",
   "execution_count": null,
   "metadata": {},
   "outputs": [],
   "source": [
    "8. How do you tell the difference between read() and readlines()?\n",
    "Ans: read() -reads the eniter file content at a one go and gives the out put as\n",
    "     entier content of file\n",
    "     readlines()- reads the file line by line and gives out put as one line at a time"
   ]
  },
  {
   "cell_type": "code",
   "execution_count": null,
   "metadata": {},
   "outputs": [],
   "source": [
    "9. What data structure does a shelf value resemble?\n",
    "Ans: A shelf value resembles a dictionary value; it has keys and values,\n",
    "along with keys() and values() methods that work similarly to the dictionary methods\n",
    "of the same names.\n",
    "To read and write data using the shelve module, you first import shelve. \n",
    "Call shelve.open() and pass it a filename, and then store the returned shelf \n",
    "value in a variable. You can make changes to the shelf value as if it were a dictionary. \n",
    "When you’re done, call close() on the shelf value. \n",
    "You can save variables in your Python programs to binary shelf files\n",
    "using the shelve module. This way, your program can restore data to variables \n",
    "from the hard drive. The shelve module will let you add \n",
    "Save and Open features to your program. For example, if you ran a program and \n",
    "entered some configuration settings, you could save those settings to a shelf file and \n",
    "then have the program load them the next time it is run."
   ]
  },
  {
   "cell_type": "code",
   "execution_count": null,
   "metadata": {},
   "outputs": [],
   "source": []
  },
  {
   "cell_type": "code",
   "execution_count": null,
   "metadata": {},
   "outputs": [],
   "source": []
  },
  {
   "cell_type": "code",
   "execution_count": null,
   "metadata": {},
   "outputs": [],
   "source": []
  },
  {
   "cell_type": "code",
   "execution_count": null,
   "metadata": {},
   "outputs": [],
   "source": []
  },
  {
   "cell_type": "code",
   "execution_count": null,
   "metadata": {},
   "outputs": [],
   "source": []
  },
  {
   "cell_type": "code",
   "execution_count": null,
   "metadata": {},
   "outputs": [],
   "source": []
  },
  {
   "cell_type": "code",
   "execution_count": null,
   "metadata": {},
   "outputs": [],
   "source": []
  },
  {
   "cell_type": "code",
   "execution_count": null,
   "metadata": {},
   "outputs": [],
   "source": []
  },
  {
   "cell_type": "code",
   "execution_count": null,
   "metadata": {},
   "outputs": [],
   "source": []
  },
  {
   "cell_type": "code",
   "execution_count": null,
   "metadata": {},
   "outputs": [],
   "source": []
  },
  {
   "cell_type": "code",
   "execution_count": null,
   "metadata": {},
   "outputs": [],
   "source": []
  },
  {
   "cell_type": "code",
   "execution_count": null,
   "metadata": {},
   "outputs": [],
   "source": []
  },
  {
   "cell_type": "code",
   "execution_count": null,
   "metadata": {},
   "outputs": [],
   "source": []
  }
 ],
 "metadata": {
  "kernelspec": {
   "display_name": "Python 3",
   "language": "python",
   "name": "python3"
  },
  "language_info": {
   "codemirror_mode": {
    "name": "ipython",
    "version": 3
   },
   "file_extension": ".py",
   "mimetype": "text/x-python",
   "name": "python",
   "nbconvert_exporter": "python",
   "pygments_lexer": "ipython3",
   "version": "3.7.6"
  }
 },
 "nbformat": 4,
 "nbformat_minor": 4
}
