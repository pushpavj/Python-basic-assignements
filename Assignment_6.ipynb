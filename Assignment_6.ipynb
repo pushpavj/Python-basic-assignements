{
 "cells": [
  {
   "cell_type": "code",
   "execution_count": null,
   "metadata": {},
   "outputs": [],
   "source": [
    "1. What are escape characters, and how do you use them?\n",
    "Ans: We use \\ to indicate the escape character. In normal string some of the special characters\n",
    "    are not considered as valid string character such as ',\",\\, but in some scenario we would\n",
    "    need these character as part of our string, in that case if we use \\ followed by the\n",
    "    character which we want it to treat part of the string then the operator will escape that \n",
    "    character being considered as invalid and it will include it as part of the string. \n",
    "    example:s=\"sudh\\'\"\n",
    "        Along with this there are couple\n",
    "    of special type of escape characters as well which will tell the operator to perform \n",
    "    some special need during run time \n",
    "    example, \\n will go to next line, \\t will insert tab space, "
   ]
  },
  {
   "cell_type": "code",
   "execution_count": null,
   "metadata": {},
   "outputs": [],
   "source": [
    "2. What do the escape characters n and t stand for?\n",
    "Ans:\\n stands for insert new line\n",
    "    \\t stands for insert tab space"
   ]
  },
  {
   "cell_type": "code",
   "execution_count": null,
   "metadata": {},
   "outputs": [],
   "source": [
    "3. What is the way to include backslash characters in a string?\n",
    "Ans:You can include \\ in a string by specifying \\\\ inside the string.\n",
    "    Example s='sudh\\\\data'"
   ]
  },
  {
   "cell_type": "code",
   "execution_count": null,
   "metadata": {},
   "outputs": [],
   "source": [
    "4. The string \"Howl's Moving Castle\" is a correct value. Why isn't the single quote \n",
    "character in the word Howl's not escaped a problem?\n",
    "Ans:Because the entire string is double coated hence Howl's not escaped a problem. We can use \n",
    "    double coat to escape '' inside the string and single coates to escape double coats \n",
    "    inside the string:\n",
    "        Ex: print('sudh\"data\"') \n",
    "            print(\"sudh'data'\")"
   ]
  },
  {
   "cell_type": "code",
   "execution_count": null,
   "metadata": {},
   "outputs": [],
   "source": [
    "5. How do you write a string of newlines if you don't want to use the n character?\n",
    "Ans:By using print() this will insert a newline by default"
   ]
  },
  {
   "cell_type": "code",
   "execution_count": null,
   "metadata": {},
   "outputs": [],
   "source": [
    "6. What are the values of the given expressions?\n",
    "    Q               - Ans\n",
    "'Hello, world!'[1]  - 'e'\n",
    "'Hello, world!'[0:5]- 'Hello'\n",
    "'Hello, world!'[:5] - 'Hello'\n",
    "'Hello, world!'[3:] - 'lo, world!'\n"
   ]
  },
  {
   "cell_type": "code",
   "execution_count": null,
   "metadata": {},
   "outputs": [],
   "source": [
    "7. What are the values of the following expressions?\n",
    "      Q                 -   Ans\n",
    "'Hello'.upper()         - 'HELLO'\n",
    "'Hello'.upper().isupper()- \"True\"\n",
    "'Hello'.upper().lower()  - \"hello\"\n"
   ]
  },
  {
   "cell_type": "code",
   "execution_count": null,
   "metadata": {},
   "outputs": [],
   "source": [
    "8. What are the values of the following expressions?\n",
    "'Remember, remember, the fifth of July.'.split()  \n",
    "'-'.join('There can only one.'.split())\n",
    "Ans:\n",
    "    ['Remember,', 'remember,', 'the', 'fifth', 'of', 'July.']\n"
   ]
  },
  {
   "cell_type": "code",
   "execution_count": null,
   "metadata": {},
   "outputs": [],
   "source": [
    "9. What are the methods for right-justifying, left-justifying, and centering a string?\n",
    "Ans: string.rjust(width), string.ljust(width), string.center(width)"
   ]
  },
  {
   "cell_type": "code",
   "execution_count": null,
   "metadata": {},
   "outputs": [],
   "source": [
    "10. What is the best way to remove whitespace characters from the start or end?\n",
    "Ans:string.lstrip() or string.rstrip()"
   ]
  },
  {
   "cell_type": "code",
   "execution_count": null,
   "metadata": {},
   "outputs": [],
   "source": []
  },
  {
   "cell_type": "code",
   "execution_count": null,
   "metadata": {},
   "outputs": [],
   "source": []
  },
  {
   "cell_type": "code",
   "execution_count": null,
   "metadata": {},
   "outputs": [],
   "source": []
  },
  {
   "cell_type": "code",
   "execution_count": null,
   "metadata": {},
   "outputs": [],
   "source": []
  },
  {
   "cell_type": "code",
   "execution_count": null,
   "metadata": {},
   "outputs": [],
   "source": []
  },
  {
   "cell_type": "code",
   "execution_count": 78,
   "metadata": {},
   "outputs": [
    {
     "name": "stdout",
     "output_type": "stream",
     "text": [
      "sudh\\data\n"
     ]
    }
   ],
   "source": [
    "s=\"sudh\\\\data\"\n",
    "print(s)"
   ]
  },
  {
   "cell_type": "code",
   "execution_count": 77,
   "metadata": {},
   "outputs": [
    {
     "name": "stdout",
     "output_type": "stream",
     "text": [
      "sudh\\data\n"
     ]
    }
   ],
   "source": [
    "print(\"sudh\\\\data\")"
   ]
  },
  {
   "cell_type": "code",
   "execution_count": 79,
   "metadata": {},
   "outputs": [
    {
     "name": "stdout",
     "output_type": "stream",
     "text": [
      "sudh''data\n"
     ]
    }
   ],
   "source": [
    "s=\"sudh'\\'data\"\n",
    "print(s)"
   ]
  },
  {
   "cell_type": "code",
   "execution_count": 75,
   "metadata": {},
   "outputs": [
    {
     "name": "stdout",
     "output_type": "stream",
     "text": [
      "C:\\Users\\Pat\\Desktop\n"
     ]
    }
   ],
   "source": [
    "print(\"C:\\\\Users\\\\Pat\\\\Desktop\")"
   ]
  },
  {
   "cell_type": "code",
   "execution_count": 80,
   "metadata": {},
   "outputs": [
    {
     "name": "stdout",
     "output_type": "stream",
     "text": [
      "Howl's Moving Castle\n"
     ]
    }
   ],
   "source": [
    "print(\"Howl's Moving Castle\")"
   ]
  },
  {
   "cell_type": "code",
   "execution_count": 81,
   "metadata": {},
   "outputs": [
    {
     "name": "stdout",
     "output_type": "stream",
     "text": [
      "Howl\"s Moving Castle\n"
     ]
    }
   ],
   "source": [
    "print('Howl\"s Moving Castle')"
   ]
  },
  {
   "cell_type": "code",
   "execution_count": 82,
   "metadata": {},
   "outputs": [
    {
     "name": "stdout",
     "output_type": "stream",
     "text": [
      "sudh\"data\"\n"
     ]
    }
   ],
   "source": [
    "print('sudh\"data\"')"
   ]
  },
  {
   "cell_type": "code",
   "execution_count": 83,
   "metadata": {},
   "outputs": [
    {
     "name": "stdout",
     "output_type": "stream",
     "text": [
      "\n"
     ]
    }
   ],
   "source": [
    "print()"
   ]
  },
  {
   "cell_type": "code",
   "execution_count": 1,
   "metadata": {},
   "outputs": [],
   "source": [
    "s='sudh#'"
   ]
  },
  {
   "cell_type": "code",
   "execution_count": 84,
   "metadata": {},
   "outputs": [
    {
     "data": {
      "text/plain": [
       "True"
      ]
     },
     "execution_count": 84,
     "metadata": {},
     "output_type": "execute_result"
    }
   ],
   "source": [
    "'Hello'.upper().isupper()"
   ]
  },
  {
   "cell_type": "code",
   "execution_count": 85,
   "metadata": {},
   "outputs": [
    {
     "data": {
      "text/plain": [
       "'hello'"
      ]
     },
     "execution_count": 85,
     "metadata": {},
     "output_type": "execute_result"
    }
   ],
   "source": [
    "'Hello'.upper().lower() "
   ]
  },
  {
   "cell_type": "code",
   "execution_count": 86,
   "metadata": {},
   "outputs": [
    {
     "data": {
      "text/plain": [
       "['Remember,', 'remember,', 'the', 'fifth', 'of', 'July.']"
      ]
     },
     "execution_count": 86,
     "metadata": {},
     "output_type": "execute_result"
    }
   ],
   "source": [
    "'Remember, remember, the fifth of July.'.split()"
   ]
  },
  {
   "cell_type": "code",
   "execution_count": 87,
   "metadata": {},
   "outputs": [
    {
     "data": {
      "text/plain": [
       "'There-can-only-one.'"
      ]
     },
     "execution_count": 87,
     "metadata": {},
     "output_type": "execute_result"
    }
   ],
   "source": [
    "'-'.join('There can only one.'.split())"
   ]
  },
  {
   "cell_type": "code",
   "execution_count": null,
   "metadata": {},
   "outputs": [],
   "source": [
    "'-'.join('There can only one.'.split())"
   ]
  },
  {
   "cell_type": "code",
   "execution_count": 88,
   "metadata": {},
   "outputs": [
    {
     "data": {
      "text/plain": [
       "['There', 'can', 'only', 'one.']"
      ]
     },
     "execution_count": 88,
     "metadata": {},
     "output_type": "execute_result"
    }
   ],
   "source": [
    "'There can only one.'.split()"
   ]
  },
  {
   "cell_type": "code",
   "execution_count": 89,
   "metadata": {},
   "outputs": [
    {
     "data": {
      "text/plain": [
       "'There-can-only-one.'"
      ]
     },
     "execution_count": 89,
     "metadata": {},
     "output_type": "execute_result"
    }
   ],
   "source": [
    "'-'.join(['There', 'can', 'only', 'one.'])"
   ]
  },
  {
   "cell_type": "code",
   "execution_count": 90,
   "metadata": {},
   "outputs": [
    {
     "data": {
      "text/plain": [
       "'T-h-e-r-e- -c-a-n- -o-n-l-y- -o-n-e-.'"
      ]
     },
     "execution_count": 90,
     "metadata": {},
     "output_type": "execute_result"
    }
   ],
   "source": [
    "'-'.join('There can only one.')"
   ]
  },
  {
   "cell_type": "code",
   "execution_count": 102,
   "metadata": {},
   "outputs": [],
   "source": [
    "s='sudh'"
   ]
  },
  {
   "cell_type": "code",
   "execution_count": 103,
   "metadata": {},
   "outputs": [
    {
     "data": {
      "text/plain": [
       "'sudh                '"
      ]
     },
     "execution_count": 103,
     "metadata": {},
     "output_type": "execute_result"
    }
   ],
   "source": [
    "s.ljust(20)"
   ]
  },
  {
   "cell_type": "code",
   "execution_count": 105,
   "metadata": {},
   "outputs": [
    {
     "data": {
      "text/plain": [
       "'                sudh'"
      ]
     },
     "execution_count": 105,
     "metadata": {},
     "output_type": "execute_result"
    }
   ],
   "source": [
    "s.rjust(20)"
   ]
  },
  {
   "cell_type": "code",
   "execution_count": 108,
   "metadata": {},
   "outputs": [
    {
     "data": {
      "text/plain": [
       "'        sudh        '"
      ]
     },
     "execution_count": 108,
     "metadata": {},
     "output_type": "execute_result"
    }
   ],
   "source": [
    "a=s.center(20)\n",
    "a"
   ]
  },
  {
   "cell_type": "code",
   "execution_count": 109,
   "metadata": {},
   "outputs": [
    {
     "data": {
      "text/plain": [
       "'sudh'"
      ]
     },
     "execution_count": 109,
     "metadata": {},
     "output_type": "execute_result"
    }
   ],
   "source": [
    "a.replace(' ','')"
   ]
  },
  {
   "cell_type": "code",
   "execution_count": 112,
   "metadata": {},
   "outputs": [
    {
     "data": {
      "text/plain": [
       "'sudh        '"
      ]
     },
     "execution_count": 112,
     "metadata": {},
     "output_type": "execute_result"
    }
   ],
   "source": [
    "a.lstrip()"
   ]
  },
  {
   "cell_type": "code",
   "execution_count": 114,
   "metadata": {},
   "outputs": [
    {
     "data": {
      "text/plain": [
       "'        sudh        '"
      ]
     },
     "execution_count": 114,
     "metadata": {},
     "output_type": "execute_result"
    }
   ],
   "source": [
    "a"
   ]
  },
  {
   "cell_type": "code",
   "execution_count": 115,
   "metadata": {},
   "outputs": [
    {
     "data": {
      "text/plain": [
       "'sudh        '"
      ]
     },
     "execution_count": 115,
     "metadata": {},
     "output_type": "execute_result"
    }
   ],
   "source": [
    "a.lstrip()"
   ]
  },
  {
   "cell_type": "code",
   "execution_count": 116,
   "metadata": {},
   "outputs": [
    {
     "data": {
      "text/plain": [
       "'        sudh'"
      ]
     },
     "execution_count": 116,
     "metadata": {},
     "output_type": "execute_result"
    }
   ],
   "source": [
    "a.rstrip()"
   ]
  },
  {
   "cell_type": "code",
   "execution_count": null,
   "metadata": {},
   "outputs": [],
   "source": []
  },
  {
   "cell_type": "code",
   "execution_count": null,
   "metadata": {},
   "outputs": [],
   "source": []
  },
  {
   "cell_type": "code",
   "execution_count": 2,
   "metadata": {},
   "outputs": [
    {
     "data": {
      "text/plain": [
       "'sudh#'"
      ]
     },
     "execution_count": 2,
     "metadata": {},
     "output_type": "execute_result"
    }
   ],
   "source": [
    "s"
   ]
  },
  {
   "cell_type": "code",
   "execution_count": 3,
   "metadata": {},
   "outputs": [],
   "source": [
    "s='sudh@'"
   ]
  },
  {
   "cell_type": "code",
   "execution_count": 4,
   "metadata": {},
   "outputs": [
    {
     "ename": "SyntaxError",
     "evalue": "EOL while scanning string literal (<ipython-input-4-3450cb668f0a>, line 1)",
     "output_type": "error",
     "traceback": [
      "\u001b[1;36m  File \u001b[1;32m\"<ipython-input-4-3450cb668f0a>\"\u001b[1;36m, line \u001b[1;32m1\u001b[0m\n\u001b[1;33m    s='sudh\\'\u001b[0m\n\u001b[1;37m             ^\u001b[0m\n\u001b[1;31mSyntaxError\u001b[0m\u001b[1;31m:\u001b[0m EOL while scanning string literal\n"
     ]
    }
   ],
   "source": [
    "s='sudh\\'"
   ]
  },
  {
   "cell_type": "code",
   "execution_count": 5,
   "metadata": {},
   "outputs": [
    {
     "ename": "SyntaxError",
     "evalue": "EOL while scanning string literal (<ipython-input-5-5b36dd18f3e4>, line 1)",
     "output_type": "error",
     "traceback": [
      "\u001b[1;36m  File \u001b[1;32m\"<ipython-input-5-5b36dd18f3e4>\"\u001b[1;36m, line \u001b[1;32m1\u001b[0m\n\u001b[1;33m    s='sudh''\u001b[0m\n\u001b[1;37m             ^\u001b[0m\n\u001b[1;31mSyntaxError\u001b[0m\u001b[1;31m:\u001b[0m EOL while scanning string literal\n"
     ]
    }
   ],
   "source": [
    "s='sudh''"
   ]
  },
  {
   "cell_type": "code",
   "execution_count": 6,
   "metadata": {},
   "outputs": [],
   "source": [
    "s='sudh,'"
   ]
  },
  {
   "cell_type": "code",
   "execution_count": 7,
   "metadata": {},
   "outputs": [],
   "source": [
    "s='sudh?'"
   ]
  },
  {
   "cell_type": "code",
   "execution_count": 8,
   "metadata": {},
   "outputs": [],
   "source": [
    "s='sudh/'\n"
   ]
  },
  {
   "cell_type": "code",
   "execution_count": 9,
   "metadata": {},
   "outputs": [],
   "source": [
    "s='sudh:'"
   ]
  },
  {
   "cell_type": "code",
   "execution_count": 10,
   "metadata": {},
   "outputs": [],
   "source": [
    "s='sudh;'"
   ]
  },
  {
   "cell_type": "code",
   "execution_count": 11,
   "metadata": {},
   "outputs": [],
   "source": [
    "s='sudh<'"
   ]
  },
  {
   "cell_type": "code",
   "execution_count": 12,
   "metadata": {},
   "outputs": [],
   "source": [
    "s='sudh$'"
   ]
  },
  {
   "cell_type": "code",
   "execution_count": 13,
   "metadata": {},
   "outputs": [],
   "source": [
    "s='sudh%'"
   ]
  },
  {
   "cell_type": "code",
   "execution_count": 14,
   "metadata": {},
   "outputs": [],
   "source": [
    "s='sudh*'"
   ]
  },
  {
   "cell_type": "code",
   "execution_count": 15,
   "metadata": {},
   "outputs": [],
   "source": [
    "s='sudh^'"
   ]
  },
  {
   "cell_type": "code",
   "execution_count": 16,
   "metadata": {},
   "outputs": [],
   "source": [
    "s='sudh+'"
   ]
  },
  {
   "cell_type": "code",
   "execution_count": 24,
   "metadata": {},
   "outputs": [
    {
     "name": "stdout",
     "output_type": "stream",
     "text": [
      "sudh'data\n"
     ]
    }
   ],
   "source": [
    "s='sudh\\'data'\n",
    "print(s)"
   ]
  },
  {
   "cell_type": "code",
   "execution_count": 23,
   "metadata": {},
   "outputs": [
    {
     "name": "stdout",
     "output_type": "stream",
     "text": [
      "sudh\n",
      "data\n"
     ]
    }
   ],
   "source": [
    "s='sudh\\ndata'\n",
    "print(s)"
   ]
  },
  {
   "cell_type": "code",
   "execution_count": 21,
   "metadata": {},
   "outputs": [
    {
     "name": "stdout",
     "output_type": "stream",
     "text": [
      "sudh\t data\n"
     ]
    }
   ],
   "source": [
    "s='sudh\\t data'\n",
    "print(s)"
   ]
  },
  {
   "cell_type": "code",
   "execution_count": 27,
   "metadata": {},
   "outputs": [
    {
     "name": "stdout",
     "output_type": "stream",
     "text": [
      "sudh\bdata\n"
     ]
    }
   ],
   "source": [
    "s='sudh\\bdata' #backspaces last character of the string which is before \\b\n",
    "print(s)"
   ]
  },
  {
   "cell_type": "code",
   "execution_count": 28,
   "metadata": {},
   "outputs": [
    {
     "name": "stdout",
     "output_type": "stream",
     "text": [
      "sudh\u0007data\n"
     ]
    }
   ],
   "source": [
    "s='sudh\\adata'\n",
    "print(s)"
   ]
  },
  {
   "cell_type": "code",
   "execution_count": 29,
   "metadata": {},
   "outputs": [
    {
     "name": "stdout",
     "output_type": "stream",
     "text": [
      "sudh\\cdata\n"
     ]
    }
   ],
   "source": [
    "s='sudh\\cdata'\n",
    "print(s)"
   ]
  },
  {
   "cell_type": "code",
   "execution_count": 30,
   "metadata": {},
   "outputs": [
    {
     "name": "stdout",
     "output_type": "stream",
     "text": [
      "sudh\\ddata\n"
     ]
    }
   ],
   "source": [
    "s='sudh\\ddata'\n",
    "print(s)"
   ]
  },
  {
   "cell_type": "code",
   "execution_count": 39,
   "metadata": {},
   "outputs": [
    {
     "name": "stdout",
     "output_type": "stream",
     "text": [
      "['sudh\\\\adata', 'sudh\\\\bdata', 'sudh\\\\cdata', 'sudh\\\\ddata', 'sudh\\\\edata', 'sudh\\\\fdata', 'sudh\\\\gdata', 'sudh\\\\hdata', 'sudh\\\\idata', 'sudh\\\\jdata', 'sudh\\\\kdata', 'sudh\\\\ldata', 'sudh\\\\mdata', 'sudh\\\\ndata', 'sudh\\\\odata', 'sudh\\\\pdata', 'sudh\\\\qdata', 'sudh\\\\rdata', 'sudh\\\\sdata', 'sudh\\\\tdata', 'sudh\\\\udata', 'sudh\\\\vdata', 'sudh\\\\wdata', 'sudh\\\\xdata', 'sudh\\\\ydata', 'sudh\\\\zdata']\n"
     ]
    }
   ],
   "source": [
    "a='abcdefghijklmnopqrstuvwxyz'\n",
    "l=[]\n",
    "for i in a:\n",
    "    s=f\"sudh\\{i}data\"\n",
    "    l.append(s)\n",
    "print(l)\n",
    "    "
   ]
  },
  {
   "cell_type": "code",
   "execution_count": 36,
   "metadata": {},
   "outputs": [
    {
     "name": "stdout",
     "output_type": "stream",
     "text": [
      "sudh\\adata\n"
     ]
    }
   ],
   "source": [
    "i = 'a'\n",
    "s=\"sudh\\{}data\".format(i)\n",
    "b=s\n",
    "print(b)"
   ]
  },
  {
   "cell_type": "code",
   "execution_count": 55,
   "metadata": {},
   "outputs": [
    {
     "name": "stdout",
     "output_type": "stream",
     "text": [
      "['sudh\\\\a', 'sudh\\\\b', 'sudh\\\\c', 'sudh\\\\d', 'sudh\\\\e', 'sudh\\\\f', 'sudh\\\\g', 'sudh\\\\h', 'sudh\\\\i', 'sudh\\\\j', 'sudh\\\\k', 'sudh\\\\l', 'sudh\\\\m', 'sudh\\\\n', 'sudh\\\\o', 'sudh\\\\p', 'sudh\\\\q', 'sudh\\\\r', 'sudh\\\\s', 'sudh\\\\t', 'sudh\\\\u', 'sudh\\\\v', 'sudh\\\\w', 'sudh\\\\x', 'sudh\\\\y', 'sudh\\\\z']\n",
      "['sudh\\\\ a', 'sudh\\\\ b', 'sudh\\\\ c', 'sudh\\\\ d', 'sudh\\\\ e', 'sudh\\\\ f', 'sudh\\\\ g', 'sudh\\\\ h', 'sudh\\\\ i', 'sudh\\\\ j', 'sudh\\\\ k', 'sudh\\\\ l', 'sudh\\\\ m', 'sudh\\\\ n', 'sudh\\\\ o', 'sudh\\\\ p', 'sudh\\\\ q', 'sudh\\\\ r', 'sudh\\\\ s', 'sudh\\\\ t', 'sudh\\\\ u', 'sudh\\\\ v', 'sudh\\\\ w', 'sudh\\\\ x', 'sudh\\\\ y', 'sudh\\\\ z']\n"
     ]
    }
   ],
   "source": [
    "a='abcdefghijklmnopqrstuvwxyz'\n",
    "l=[]\n",
    "for i in a:\n",
    "    s=\"sudh\"+f\"\\{i}\"\n",
    "    l.append(s)\n",
    "print(l)\n",
    "l2=[]\n",
    "for i in l:\n",
    "    s2=i.replace('\\\\',\"\\ \")\n",
    "    l2.append(s2)\n",
    "print(l2)\n",
    "    "
   ]
  },
  {
   "cell_type": "code",
   "execution_count": 57,
   "metadata": {},
   "outputs": [
    {
     "ename": "SyntaxError",
     "evalue": "(unicode error) 'unicodeescape' codec can't decode bytes in position 0-1: truncated \\uXXXX escape (<ipython-input-57-2ed7e9bf5fef>, line 2)",
     "output_type": "error",
     "traceback": [
      "\u001b[1;36m  File \u001b[1;32m\"<ipython-input-57-2ed7e9bf5fef>\"\u001b[1;36m, line \u001b[1;32m2\u001b[0m\n\u001b[1;33m    '\\u','\\v','\\w','\\x','\\y','\\z','\\A','\\B','\\C','\\D','\\E','\\F','\\G','\\H','\\I','\\J','\\K','\\L','\\M','\\N'\u001b[0m\n\u001b[1;37m    ^\u001b[0m\n\u001b[1;31mSyntaxError\u001b[0m\u001b[1;31m:\u001b[0m (unicode error) 'unicodeescape' codec can't decode bytes in position 0-1: truncated \\uXXXX escape\n"
     ]
    }
   ],
   "source": [
    "\n",
    "l=['\\a','\\b','\\c','\\d','\\e','\\f','\\g','\\h','\\i','\\j','\\k','\\l','\\m','\\n','\\o','\\p','\\q','\\r','\\s','\\t',\n",
    "  '\\u','\\v','\\w','\\x','\\y','\\z','\\A','\\B','\\C','\\D','\\E','\\F','\\G','\\H','\\I','\\J','\\K','\\L','\\M','\\N'\n",
    "  '\\O','\\P','\\Q','\\R','\\S','\\T','\\U','\\V','\\W','\\X','\\Y','\\Z']\n",
    "\n",
    "for i in l:\n",
    "    s=\"sudh\"+i\n",
    "    print(s)\n"
   ]
  },
  {
   "cell_type": "code",
   "execution_count": 67,
   "metadata": {},
   "outputs": [
    {
     "name": "stdout",
     "output_type": "stream",
     "text": [
      "sudh\u0007\n",
      "sudh\b\n",
      "sudh\\c\n",
      "sudh\\d\n",
      "sudh\\e\n",
      "sudh\f",
      "\n",
      "sudh\\g\n",
      "sudh\\h\n",
      "sudh\\i\n",
      "sudh\\j\n",
      "sudh\\k\n",
      "sudh\\l\n",
      "sudh\\m\n",
      "sudh\n",
      "\n",
      "sudh\\o\n",
      "sudh\\p\n",
      "sudh\\q\n",
      "sudh\r\n",
      "sudh\\s\n",
      "sudh\t\n",
      "sudh\u000b",
      "\n",
      "sudh\\w\n",
      "sudh\\y\n",
      "sudh\\z\n",
      "sudh\\A\n",
      "sudh\\B\n",
      "sudh\\C\n",
      "sudh\\D\n",
      "sudh\\E\n",
      "sudh\\F\n",
      "sudh\\G\n",
      "sudh\\H\n",
      "sudh\\I\n",
      "sudh\\J\n",
      "sudh\\K\n",
      "sudh\\L\n",
      "sudh\\M\n",
      "sudh\\O\n",
      "sudh\\P\n",
      "sudh\\Q\n",
      "sudh\\R\n",
      "sudh\\S\n",
      "sudh\\T\n",
      "sudh\\V\n",
      "sudh\\W\n",
      "sudh\\X\n",
      "sudh\\Y\n",
      "sudh\\Z\n"
     ]
    }
   ],
   "source": [
    "\n",
    "l=['\\a','\\b','\\c','\\d','\\e','\\f','\\g','\\h','\\i','\\j','\\k','\\l','\\m','\\n','\\o','\\p','\\q','\\r','\\s','\\t',\n",
    "  '\\v','\\w','\\y','\\z','\\A','\\B','\\C','\\D','\\E','\\F','\\G','\\H','\\I','\\J','\\K','\\L','\\M',\n",
    "  '\\O','\\P','\\Q','\\R','\\S','\\T','\\V','\\W','\\X','\\Y','\\Z']\n",
    "#\\u,\\x,\\N,\\U gives escape encode error\n",
    "\n",
    "for i in range(len(l)):\n",
    "    s=\"sudh\"+l[i]\n",
    "    print(s)\n"
   ]
  },
  {
   "cell_type": "code",
   "execution_count": null,
   "metadata": {},
   "outputs": [],
   "source": []
  }
 ],
 "metadata": {
  "kernelspec": {
   "display_name": "Python 3",
   "language": "python",
   "name": "python3"
  },
  "language_info": {
   "codemirror_mode": {
    "name": "ipython",
    "version": 3
   },
   "file_extension": ".py",
   "mimetype": "text/x-python",
   "name": "python",
   "nbconvert_exporter": "python",
   "pygments_lexer": "ipython3",
   "version": "3.7.6"
  }
 },
 "nbformat": 4,
 "nbformat_minor": 4
}
