{
 "cells": [
  {
   "cell_type": "code",
   "execution_count": null,
   "metadata": {},
   "outputs": [],
   "source": [
    "1. How do you distinguish between shutil.copy() and shutil.copytree()?\n",
    "Ans:shutil.copy() allows to copy only one level of file to the destination folder.\n",
    "    Where as shutil.copytree() allows to copy deep level of the file folder. i.e. subfolder and\n",
    "    files also get copied to the destination folder."
   ]
  },
  {
   "cell_type": "code",
   "execution_count": 1,
   "metadata": {},
   "outputs": [],
   "source": [
    "import shutil"
   ]
  },
  {
   "cell_type": "code",
   "execution_count": 2,
   "metadata": {},
   "outputs": [],
   "source": [
    "import os"
   ]
  },
  {
   "cell_type": "code",
   "execution_count": 12,
   "metadata": {},
   "outputs": [],
   "source": [
    "src='D:\\\\user\\\\jupyternotes\\\\Praketh class\\\\my-new-folder5-renamed\\\\test.txt'\n",
    "dest='D:\\\\user\\\\jupyternotes\\\\Praketh Assignments\\\\Python Basic assignments\\\\Destfolder'"
   ]
  },
  {
   "cell_type": "code",
   "execution_count": 13,
   "metadata": {},
   "outputs": [
    {
     "data": {
      "text/plain": [
       "'D:\\\\user\\\\jupyternotes\\\\Praketh Assignments\\\\Python Basic assignments\\\\Destfolder\\\\test.txt'"
      ]
     },
     "execution_count": 13,
     "metadata": {},
     "output_type": "execute_result"
    }
   ],
   "source": [
    "shutil.copy(src,dest)"
   ]
  },
  {
   "cell_type": "code",
   "execution_count": 21,
   "metadata": {},
   "outputs": [],
   "source": [
    "src='D:\\\\user\\\\jupyternotes\\\\Praketh Assignments\\\\Python Basic assignments\\\\srcfolder'\n",
    "dest='D:\\\\user\\\\jupyternotes\\\\Praketh Assignments\\\\Python Basic assignments\\\\Dest2-folder'"
   ]
  },
  {
   "cell_type": "code",
   "execution_count": 22,
   "metadata": {},
   "outputs": [
    {
     "data": {
      "text/plain": [
       "'D:\\\\user\\\\jupyternotes\\\\Praketh Assignments\\\\Python Basic assignments\\\\Dest2-folder'"
      ]
     },
     "execution_count": 22,
     "metadata": {},
     "output_type": "execute_result"
    }
   ],
   "source": [
    "shutil.copytree(src,dest)"
   ]
  },
  {
   "cell_type": "code",
   "execution_count": 3,
   "metadata": {},
   "outputs": [
    {
     "data": {
      "text/plain": [
       "'D:\\\\user\\\\jupyternotes\\\\Praketh Assignments\\\\Python Basic assignments'"
      ]
     },
     "execution_count": 3,
     "metadata": {},
     "output_type": "execute_result"
    }
   ],
   "source": [
    "os.getcwd()"
   ]
  },
  {
   "cell_type": "code",
   "execution_count": null,
   "metadata": {},
   "outputs": [],
   "source": [
    "2. What function is used to rename files??\n",
    "Ans:os.rename(src,dest) function with passing the source and destination file path and name\n",
    "    can be used to rename files."
   ]
  },
  {
   "cell_type": "code",
   "execution_count": 24,
   "metadata": {},
   "outputs": [],
   "source": [
    "src='D:\\\\user\\\\jupyternotes\\\\Praketh class\\\\my-new-folder5-renamed\\\\test.txt'\n",
    "dest='D:\\\\user\\\\jupyternotes\\\\Praketh class\\\\my-new-folder5-renamed\\\\test2.txt'"
   ]
  },
  {
   "cell_type": "code",
   "execution_count": 26,
   "metadata": {},
   "outputs": [],
   "source": [
    "os.rename(src,dest)"
   ]
  },
  {
   "cell_type": "code",
   "execution_count": null,
   "metadata": {},
   "outputs": [],
   "source": [
    "3. What is the difference between the delete functions in the send2trash and shutil modules?\n",
    "\n",
    "Ans. In Shutil we use rmtree() function to remove the entire folder along with its sub folder \n",
    "     permanently where as send2trash function will delete the file/folder from the given path\n",
    "    and moves it to recycle bin.\n"
   ]
  },
  {
   "cell_type": "code",
   "execution_count": 27,
   "metadata": {},
   "outputs": [],
   "source": [
    "import send2trash"
   ]
  },
  {
   "cell_type": "code",
   "execution_count": 29,
   "metadata": {},
   "outputs": [],
   "source": [
    "send2trash.send2trash('D:\\\\user\\\\jupyternotes\\\\Praketh class\\\\my-new-folder5-renamed\\\\test2.txt')"
   ]
  },
  {
   "cell_type": "code",
   "execution_count": 30,
   "metadata": {},
   "outputs": [],
   "source": [
    "shutil.rmtree('D:\\\\user\\\\jupyternotes\\\\Praketh class\\\\my-new-folder5-renamed\\\\Testfolder')"
   ]
  },
  {
   "cell_type": "code",
   "execution_count": null,
   "metadata": {},
   "outputs": [],
   "source": [
    "4.ZipFile objects have a close() method just like File objects’ close() method.\n",
    "What ZipFile method is equivalent to File objects’ open() method?\n",
    "Ans:zipfile.ZipFile(\"test.zip\",'r') to open zipfile in read mode\n",
    "    or zipfile.ZipFile('test.zip','w') to open zip file in write mode"
   ]
  },
  {
   "cell_type": "code",
   "execution_count": null,
   "metadata": {},
   "outputs": [],
   "source": [
    "5. Create a programme that searches a folder tree for files with a certain\n",
    "file extension (such as .pdf or .jpg). \n",
    "Copy these files from whatever location they are in to a new folder."
   ]
  },
  {
   "cell_type": "code",
   "execution_count": 9,
   "metadata": {},
   "outputs": [
    {
     "name": "stdout",
     "output_type": "stream",
     "text": [
      "Please enter the file path: D:\\\\user\\\\jupyternotes\\\\\n",
      "Please enter the file extention without . doc\n",
      "List of .doc files in the fiven directory path are ['Mywordfile.doc', 'SICQ_IKEA_Test Plan _R.8.2.0.doc', 'Mywordfile.doc', 'tertew.doc', 'werew.doc', 'type.doc', 'xyz.doc', 'ewq111.doc']\n"
     ]
    }
   ],
   "source": [
    "def fun(f_path,ext):\n",
    "    '''\n",
    "    This function will searches the folder tree for files with given extention\n",
    "    \n",
    "    '''\n",
    "    l=[]\n",
    "    import os\n",
    "    tree=os.walk(f_path)\n",
    "    tree_list=list(tree)\n",
    "    \n",
    "    import re\n",
    "    pattern=re.compile(r\"\\.\"+ ext+\"$\")\n",
    "    \n",
    "    for flist in tree_list:\n",
    "        if type(flist)==tuple:\n",
    "            for folder in flist:\n",
    "                if type(folder)==list:\n",
    "                    for file in folder:\n",
    "                        matches=pattern.finditer(file)\n",
    "                        for match in matches:\n",
    "                            l.append(file)\n",
    "    return l,tree_list\n",
    "\n",
    "filepath=input(\"Please enter the file path: \")\n",
    "fileext=input(\"Please enter the file extention without . \")\n",
    "a,b=fun(filepath,fileext) \n",
    "print(f\"List of .{fileext} files in the fiven directory path are {a}\")"
   ]
  },
  {
   "cell_type": "code",
   "execution_count": null,
   "metadata": {},
   "outputs": [],
   "source": []
  },
  {
   "cell_type": "code",
   "execution_count": null,
   "metadata": {},
   "outputs": [],
   "source": []
  },
  {
   "cell_type": "code",
   "execution_count": null,
   "metadata": {},
   "outputs": [],
   "source": []
  },
  {
   "cell_type": "code",
   "execution_count": null,
   "metadata": {},
   "outputs": [],
   "source": []
  },
  {
   "cell_type": "code",
   "execution_count": null,
   "metadata": {},
   "outputs": [],
   "source": []
  },
  {
   "cell_type": "code",
   "execution_count": null,
   "metadata": {},
   "outputs": [],
   "source": []
  },
  {
   "cell_type": "code",
   "execution_count": null,
   "metadata": {},
   "outputs": [],
   "source": []
  },
  {
   "cell_type": "code",
   "execution_count": null,
   "metadata": {},
   "outputs": [],
   "source": []
  },
  {
   "cell_type": "code",
   "execution_count": null,
   "metadata": {},
   "outputs": [],
   "source": []
  }
 ],
 "metadata": {
  "kernelspec": {
   "display_name": "Python 3",
   "language": "python",
   "name": "python3"
  },
  "language_info": {
   "codemirror_mode": {
    "name": "ipython",
    "version": 3
   },
   "file_extension": ".py",
   "mimetype": "text/x-python",
   "name": "python",
   "nbconvert_exporter": "python",
   "pygments_lexer": "ipython3",
   "version": "3.7.6"
  }
 },
 "nbformat": 4,
 "nbformat_minor": 4
}
