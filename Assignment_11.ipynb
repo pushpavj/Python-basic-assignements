{
 "cells": [
  {
   "cell_type": "code",
   "execution_count": null,
   "metadata": {},
   "outputs": [],
   "source": [
    "1. Create an assert statement that throws an AssertionError if the variable spam is \n",
    "a negative integer.\n"
   ]
  },
  {
   "cell_type": "code",
   "execution_count": 1,
   "metadata": {},
   "outputs": [
    {
     "name": "stdout",
     "output_type": "stream",
     "text": [
      "Please enter the integer number: \n",
      "-1\n"
     ]
    },
    {
     "ename": "AssertionError",
     "evalue": "The variable spam is a negative integer",
     "output_type": "error",
     "traceback": [
      "\u001b[1;31m---------------------------------------------------------------------------\u001b[0m",
      "\u001b[1;31mAssertionError\u001b[0m                            Traceback (most recent call last)",
      "\u001b[1;32m<ipython-input-1-86a54d5a84fa>\u001b[0m in \u001b[0;36m<module>\u001b[1;34m\u001b[0m\n\u001b[0;32m      2\u001b[0m \u001b[0mspam\u001b[0m\u001b[1;33m=\u001b[0m\u001b[0mpypi\u001b[0m\u001b[1;33m.\u001b[0m\u001b[0minputInt\u001b[0m\u001b[1;33m(\u001b[0m\u001b[1;34m\"Please enter the integer number: \\n\"\u001b[0m\u001b[1;33m)\u001b[0m\u001b[1;33m\u001b[0m\u001b[1;33m\u001b[0m\u001b[0m\n\u001b[0;32m      3\u001b[0m \u001b[1;32mif\u001b[0m \u001b[0mspam\u001b[0m \u001b[1;33m<\u001b[0m\u001b[1;36m0\u001b[0m\u001b[1;33m:\u001b[0m\u001b[1;33m\u001b[0m\u001b[1;33m\u001b[0m\u001b[0m\n\u001b[1;32m----> 4\u001b[1;33m     \u001b[1;32mraise\u001b[0m \u001b[0mAssertionError\u001b[0m\u001b[1;33m(\u001b[0m\u001b[1;34m\"The variable spam is a negative integer\"\u001b[0m\u001b[1;33m)\u001b[0m\u001b[1;33m\u001b[0m\u001b[1;33m\u001b[0m\u001b[0m\n\u001b[0m\u001b[0;32m      5\u001b[0m \u001b[1;33m\u001b[0m\u001b[0m\n",
      "\u001b[1;31mAssertionError\u001b[0m: The variable spam is a negative integer"
     ]
    }
   ],
   "source": [
    "import pyinputplus as pypi\n",
    "spam=pypi.inputInt(\"Please enter the integer number: \\n\")\n",
    "if spam <0:\n",
    "    raise AssertionError(\"The variable spam is a negative integer\")\n",
    "        "
   ]
  },
  {
   "cell_type": "code",
   "execution_count": null,
   "metadata": {},
   "outputs": [],
   "source": [
    "2. Write an assert statement that triggers an AssertionError if the variables eggs \n",
    "and bacon contain strings that are the same as each other, \n",
    "even if their cases are different (that is, 'hello' and 'hello' are considered the same, \n",
    "and 'goodbye' and 'GOODbye' are also considered the same).\n"
   ]
  },
  {
   "cell_type": "code",
   "execution_count": 14,
   "metadata": {},
   "outputs": [
    {
     "name": "stdout",
     "output_type": "stream",
     "text": [
      "Please enter the text1 \n",
      "ABCD\n",
      "Plese enter the text2 \n",
      "abcd\n"
     ]
    },
    {
     "ename": "AssertionError",
     "evalue": "Both eggs value ABCD and bacon value abcd are same",
     "output_type": "error",
     "traceback": [
      "\u001b[1;31m---------------------------------------------------------------------------\u001b[0m",
      "\u001b[1;31mAssertionError\u001b[0m                            Traceback (most recent call last)",
      "\u001b[1;32m<ipython-input-14-7252896941b9>\u001b[0m in \u001b[0;36m<module>\u001b[1;34m\u001b[0m\n\u001b[0;32m      5\u001b[0m \u001b[0mbacon1\u001b[0m\u001b[1;33m=\u001b[0m\u001b[0mbacon\u001b[0m\u001b[1;33m.\u001b[0m\u001b[0mlower\u001b[0m\u001b[1;33m(\u001b[0m\u001b[1;33m)\u001b[0m\u001b[1;33m\u001b[0m\u001b[1;33m\u001b[0m\u001b[0m\n\u001b[0;32m      6\u001b[0m \u001b[1;32mif\u001b[0m \u001b[0meggs1\u001b[0m\u001b[1;33m==\u001b[0m\u001b[0mbacon1\u001b[0m\u001b[1;33m:\u001b[0m\u001b[1;33m\u001b[0m\u001b[1;33m\u001b[0m\u001b[0m\n\u001b[1;32m----> 7\u001b[1;33m     \u001b[1;32mraise\u001b[0m \u001b[0mAssertionError\u001b[0m\u001b[1;33m(\u001b[0m\u001b[1;34mf\"Both eggs value {eggs} and bacon value {bacon} are same\"\u001b[0m\u001b[1;33m)\u001b[0m\u001b[1;33m\u001b[0m\u001b[1;33m\u001b[0m\u001b[0m\n\u001b[0m",
      "\u001b[1;31mAssertionError\u001b[0m: Both eggs value ABCD and bacon value abcd are same"
     ]
    }
   ],
   "source": [
    "import pyinputplus as pypi\n",
    "eggs=pypi.inputStr(\"Please enter the text1 \\n\")\n",
    "bacon=pypi.inputStr(\"Plese enter the text2 \\n\")\n",
    "eggs1=eggs.lower()\n",
    "bacon1=bacon.lower()\n",
    "if eggs1==bacon1:\n",
    "    raise AssertionError(f\"Both eggs value {eggs} and bacon value {bacon} are same\")"
   ]
  },
  {
   "cell_type": "code",
   "execution_count": null,
   "metadata": {},
   "outputs": [],
   "source": [
    "3. Create an assert statement that throws an AssertionError every time.\n"
   ]
  },
  {
   "cell_type": "code",
   "execution_count": 2,
   "metadata": {},
   "outputs": [
    {
     "name": "stdout",
     "output_type": "stream",
     "text": [
      "Please enter the text1 \n",
      "abcd\n",
      "Plese enter the text2 \n",
      "ABCD\n",
      "abcd \n",
      " abcd\n"
     ]
    },
    {
     "ename": "AssertionError",
     "evalue": "I am throwing every time a AssertionError",
     "output_type": "error",
     "traceback": [
      "\u001b[1;31m---------------------------------------------------------------------------\u001b[0m",
      "\u001b[1;31mAssertionError\u001b[0m                            Traceback (most recent call last)",
      "\u001b[1;32m<ipython-input-2-9ddb71fccb80>\u001b[0m in \u001b[0;36m<module>\u001b[1;34m\u001b[0m\n\u001b[0;32m     10\u001b[0m     \u001b[0mprint\u001b[0m\u001b[1;33m(\u001b[0m\u001b[1;34m'Some exception occurred'\u001b[0m\u001b[1;33m)\u001b[0m\u001b[1;33m\u001b[0m\u001b[1;33m\u001b[0m\u001b[0m\n\u001b[0;32m     11\u001b[0m \u001b[1;32mfinally\u001b[0m \u001b[1;33m:\u001b[0m\u001b[1;33m\u001b[0m\u001b[1;33m\u001b[0m\u001b[0m\n\u001b[1;32m---> 12\u001b[1;33m     \u001b[1;32mraise\u001b[0m \u001b[0mAssertionError\u001b[0m\u001b[1;33m(\u001b[0m\u001b[1;34m\"I am throwing every time a AssertionError\"\u001b[0m\u001b[1;33m)\u001b[0m\u001b[1;33m\u001b[0m\u001b[1;33m\u001b[0m\u001b[0m\n\u001b[0m\u001b[0;32m     13\u001b[0m \u001b[1;31m#     if eggs1==bacon1:\u001b[0m\u001b[1;33m\u001b[0m\u001b[1;33m\u001b[0m\u001b[1;33m\u001b[0m\u001b[0m\n\u001b[0;32m     14\u001b[0m \u001b[1;31m#         raise AssertionError(f\"Both eggs value {eggs} and bacon value {bacon} are same\")\u001b[0m\u001b[1;33m\u001b[0m\u001b[1;33m\u001b[0m\u001b[1;33m\u001b[0m\u001b[0m\n",
      "\u001b[1;31mAssertionError\u001b[0m: I am throwing every time a AssertionError"
     ]
    }
   ],
   "source": [
    "try:\n",
    "    import pyinputplus as pypi\n",
    "    eggs=pypi.inputStr(\"Please enter the text1 \\n\")\n",
    "    bacon=pypi.inputStr(\"Plese enter the text2 \\n\")\n",
    "    eggs1=eggs.lower()\n",
    "    bacon1=bacon.lower()\n",
    "    print(eggs1,'\\n', bacon1)\n",
    "\n",
    "except:\n",
    "    print('Some exception occurred')\n",
    "finally :\n",
    "    raise AssertionError(\"I am throwing every time a AssertionError\")\n",
    "#     if eggs1==bacon1:\n",
    "#         raise AssertionError(f\"Both eggs value {eggs} and bacon value {bacon} are same\")"
   ]
  },
  {
   "cell_type": "code",
   "execution_count": null,
   "metadata": {},
   "outputs": [],
   "source": [
    "4. What are the two lines that must be present in your software in order to \n",
    "call logging.debug()?\n",
    "Ans:\n",
    "    import logging\n",
    "    logging.basicConfig()"
   ]
  },
  {
   "cell_type": "code",
   "execution_count": null,
   "metadata": {},
   "outputs": [],
   "source": [
    "5. What are the two lines that your program must have in order to have logging.debug() \n",
    "send a logging message to a file named programLog.txt?\n",
    "Ans:\n",
    "import logging as lg\n",
    "lg.basicConfig(filename='programLog.txt',level=lg.DEBUG,format='%(asctime)s-'\n",
    "              '%(name)s-%(levelname)s-%(message)s')"
   ]
  },
  {
   "cell_type": "code",
   "execution_count": 1,
   "metadata": {},
   "outputs": [],
   "source": [
    "import logging as lg\n",
    "lg.basicConfig(filename='programLog.txt',level=lg.DEBUG,format='%(asctime)s-'\n",
    "              '%(name)s-%(levelname)s-%(message)s')"
   ]
  },
  {
   "cell_type": "code",
   "execution_count": null,
   "metadata": {},
   "outputs": [],
   "source": [
    "6. What are the five levels of logging?\n",
    "Asn:\n",
    "    logging.Debug('this is for Debugging')\n",
    "    logging.Info('This is for information')\n",
    "    logging.warning(\"This is for warning messages\")\n",
    "    logging.Error('This is for Error')\n",
    "    logging.critcal('This is for critical error')\n",
    "    logging.exception(\"There is a exception error occured\")"
   ]
  },
  {
   "cell_type": "code",
   "execution_count": null,
   "metadata": {},
   "outputs": [],
   "source": [
    "7. What line of code would you add to your software to disable all logging messages?\n",
    "Ans:\n",
    "logging.disable(level=50)"
   ]
  },
  {
   "cell_type": "code",
   "execution_count": 3,
   "metadata": {},
   "outputs": [],
   "source": [
    "lg.disable(level=50)"
   ]
  },
  {
   "cell_type": "code",
   "execution_count": null,
   "metadata": {},
   "outputs": [],
   "source": [
    "8.Why is using logging messages better than using print() to display the same message?\n",
    "Ans:\n",
    "Using print() is not suitable for production level code.\n",
    "print() prints messages in the console. It is not easy to debug the code with only print message.\n",
    "logging allows to log the messages with different levels based on the severity, it will help\n",
    "much in debugging the code in case of if any showstoppers in the program. Logging facilitate\n",
    "the standard way of logging with the suitable messages. Logs trhough logging can also be stored\n",
    "in file/databases/cloud system and it allows to monitor the program behaviour and through which \n",
    "user the problem has occured. Logs entered through logging provides more conviniet information \n",
    "during debugging or analysing the code or problem in the code."
   ]
  },
  {
   "cell_type": "code",
   "execution_count": null,
   "metadata": {},
   "outputs": [],
   "source": [
    "9. What are the differences between the Step Over, Step In, and Step Out buttons in the debugger?\n",
    "Ans:\n",
    "    On a line where a method is being called, n will “step over” the method execution \n",
    "    code while s will “step into” the method execution code allowing you to introspect \n",
    "    the method code.\n",
    "Step In:\n",
    "\n",
    "A method is about to be invoked, and you want to debug into the code of that method,\n",
    "so the next step is to go into that method and continue debugging step-by-step.\n",
    "Step Over:\n",
    "A method is about to be invoked, but you are not interested in debugging this particular \n",
    "invocation, so you want the debugger to execute that method completely as one entire step.\n",
    "Step Return\n",
    "\n",
    "You are done debugging this method step-by-step, and you just want the debugger\n",
    "to run the entire method until it returns as one entire step."
   ]
  },
  {
   "cell_type": "code",
   "execution_count": null,
   "metadata": {},
   "outputs": [],
   "source": [
    "10.After you click Continue, when will the debugger stop ?\n",
    "Ans: Once continue button is pressed the system will continue to execute automatically till the\n",
    "    breakpoint reached or if no break points then till the end of of code reached."
   ]
  },
  {
   "cell_type": "code",
   "execution_count": null,
   "metadata": {},
   "outputs": [],
   "source": [
    "11. What is the concept of a breakpoint?\n",
    "Ans:A breakpoint makes your program stop at that point.\n",
    "b[reak] ([filename:]lineno|function) : b ddds breakpoints to the specified locations.\n",
    "    Example usage:\n",
    "\n",
    "b sample-filename.py:<line no>\n",
    "b <function>\n",
    "b <lineno> (for the current file)"
   ]
  },
  {
   "cell_type": "code",
   "execution_count": null,
   "metadata": {},
   "outputs": [],
   "source": []
  },
  {
   "cell_type": "code",
   "execution_count": null,
   "metadata": {},
   "outputs": [],
   "source": []
  },
  {
   "cell_type": "code",
   "execution_count": null,
   "metadata": {},
   "outputs": [],
   "source": []
  },
  {
   "cell_type": "code",
   "execution_count": null,
   "metadata": {},
   "outputs": [],
   "source": []
  },
  {
   "cell_type": "code",
   "execution_count": null,
   "metadata": {},
   "outputs": [],
   "source": []
  },
  {
   "cell_type": "code",
   "execution_count": null,
   "metadata": {},
   "outputs": [],
   "source": []
  },
  {
   "cell_type": "code",
   "execution_count": null,
   "metadata": {},
   "outputs": [],
   "source": []
  }
 ],
 "metadata": {
  "kernelspec": {
   "display_name": "Python 3",
   "language": "python",
   "name": "python3"
  },
  "language_info": {
   "codemirror_mode": {
    "name": "ipython",
    "version": 3
   },
   "file_extension": ".py",
   "mimetype": "text/x-python",
   "name": "python",
   "nbconvert_exporter": "python",
   "pygments_lexer": "ipython3",
   "version": "3.7.6"
  }
 },
 "nbformat": 4,
 "nbformat_minor": 4
}
