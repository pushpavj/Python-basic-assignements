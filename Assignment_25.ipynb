{
 "cells": [
  {
   "cell_type": "code",
   "execution_count": null,
   "metadata": {},
   "outputs": [],
   "source": [
    "1) . What is the difference between enclosing a list comprehension in square brackets \n",
    "and parentheses?\n",
    "\n",
    "Ans. If we close the list comprhension in square brackets it creates the list comprhension and\n",
    "provides the result in list. If we close the list comprhension in parentheses it will create \n",
    "the generator comprhnsion and provides the result as generator."
   ]
  },
  {
   "cell_type": "code",
   "execution_count": null,
   "metadata": {},
   "outputs": [],
   "source": [
    "2) What is the relationship between generators and iterators?\n",
    "Ans:Generotor uses yield to create generator objects.Iterator uses iter() method which makes the\n",
    "    iterable objects to self iterators. Bothe generator object and iterator object are self\n",
    "    iterators which can be iterated using next(). A python iterator and generator both fetch\n",
    "    information from the predefined libraries. They help in the proper conduct of the code."
   ]
  },
  {
   "cell_type": "code",
   "execution_count": 1,
   "metadata": {},
   "outputs": [],
   "source": [
    "def test(a):\n",
    "    for i in range(a):\n",
    "        i **3\n",
    "        yield i"
   ]
  },
  {
   "cell_type": "code",
   "execution_count": 13,
   "metadata": {},
   "outputs": [],
   "source": [
    "b=test(10)"
   ]
  },
  {
   "cell_type": "code",
   "execution_count": 14,
   "metadata": {},
   "outputs": [
    {
     "data": {
      "text/plain": [
       "<generator object test at 0x0000023D06453D48>"
      ]
     },
     "execution_count": 14,
     "metadata": {},
     "output_type": "execute_result"
    }
   ],
   "source": [
    "b"
   ]
  },
  {
   "cell_type": "code",
   "execution_count": 15,
   "metadata": {},
   "outputs": [
    {
     "data": {
      "text/plain": [
       "0"
      ]
     },
     "execution_count": 15,
     "metadata": {},
     "output_type": "execute_result"
    }
   ],
   "source": [
    "next(b)"
   ]
  },
  {
   "cell_type": "code",
   "execution_count": 7,
   "metadata": {},
   "outputs": [],
   "source": [
    "c=\"sudh\""
   ]
  },
  {
   "cell_type": "code",
   "execution_count": 8,
   "metadata": {},
   "outputs": [
    {
     "ename": "TypeError",
     "evalue": "'str' object is not an iterator",
     "output_type": "error",
     "traceback": [
      "\u001b[1;31m---------------------------------------------------------------------------\u001b[0m",
      "\u001b[1;31mTypeError\u001b[0m                                 Traceback (most recent call last)",
      "\u001b[1;32m<ipython-input-8-e846efec376d>\u001b[0m in \u001b[0;36m<module>\u001b[1;34m\u001b[0m\n\u001b[1;32m----> 1\u001b[1;33m \u001b[0mnext\u001b[0m\u001b[1;33m(\u001b[0m\u001b[0mc\u001b[0m\u001b[1;33m)\u001b[0m\u001b[1;33m\u001b[0m\u001b[1;33m\u001b[0m\u001b[0m\n\u001b[0m",
      "\u001b[1;31mTypeError\u001b[0m: 'str' object is not an iterator"
     ]
    }
   ],
   "source": [
    "next(c)"
   ]
  },
  {
   "cell_type": "code",
   "execution_count": 11,
   "metadata": {},
   "outputs": [],
   "source": [
    "d=iter(c)"
   ]
  },
  {
   "cell_type": "code",
   "execution_count": 12,
   "metadata": {},
   "outputs": [
    {
     "data": {
      "text/plain": [
       "'s'"
      ]
     },
     "execution_count": 12,
     "metadata": {},
     "output_type": "execute_result"
    }
   ],
   "source": [
    "next(d)"
   ]
  },
  {
   "cell_type": "code",
   "execution_count": null,
   "metadata": {},
   "outputs": [],
   "source": [
    "3) What are the signs that a function is a generator function?\n",
    "Ans: If the funtion returns the value as yield then it is a generator function."
   ]
  },
  {
   "cell_type": "code",
   "execution_count": null,
   "metadata": {},
   "outputs": [],
   "source": [
    "4) What is the purpose of a yield statement?\n",
    "Ans:yield provides the result as generator object which makes the data to be fetched from\n",
    "    the predefined library and helps in proper code of conduct. With iterating through\n",
    "    generator objects for huge data it will fetch and provide the data as and when the data is\n",
    "    available it does not wait for fetching of enitier collection of data before providing to the\n",
    "    user."
   ]
  },
  {
   "cell_type": "code",
   "execution_count": null,
   "metadata": {},
   "outputs": [],
   "source": [
    "5) What is the relationship between map calls and list comprehensions?\n",
    "Make a comparison and contrast between the two.\n",
    "Ans:map list of arguments to be passed through the given function and provides the map object as\n",
    "    funtion output. Where as list comprehensions creates the list object via for loop.\n",
    "   \n",
    "1   List comprehension allows filtering. In map, we have no such facility.\n",
    "    For example, to print all even numbers in range of 100, we can write \n",
    "    [n for n in range(100) if n%2 == 0]. There is no alternate for it in map.\n",
    "    \n",
    "2   List comprehension are used when a list of results is required as map only \n",
    "    returns a map object and does not return any list.\n",
    "3.  Map is faster in case of calling an already defined function (as no lambda is required).\n",
    "4.  List comprehension execution is faster than that of map function when the formula expression \n",
    "    is huge and complex. \n",
    "\n",
    "5. Map and For Loop inside the list comprehension can produce the same output,\n",
    "   but they work differently.Inside \"for loop\", we iterate a variable fed to an expression \n",
    "    within an Iterable.Whereas \"Map\" is used to map a function to all the elements of \n",
    "    the given Iterable. Map is a one-lined code configuration of \"for loop\". \n",
    "    "
   ]
  },
  {
   "cell_type": "code",
   "execution_count": null,
   "metadata": {},
   "outputs": [],
   "source": []
  }
 ],
 "metadata": {
  "kernelspec": {
   "display_name": "Python 3",
   "language": "python",
   "name": "python3"
  },
  "language_info": {
   "codemirror_mode": {
    "name": "ipython",
    "version": 3
   },
   "file_extension": ".py",
   "mimetype": "text/x-python",
   "name": "python",
   "nbconvert_exporter": "python",
   "pygments_lexer": "ipython3",
   "version": "3.7.6"
  }
 },
 "nbformat": 4,
 "nbformat_minor": 4
}
