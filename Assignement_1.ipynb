{
 "cells": [
  {
   "cell_type": "code",
   "execution_count": 1,
   "metadata": {},
   "outputs": [],
   "source": [
    "# 1. In the below elements which of them are values or an expression? eg:- values can be\n",
    "# integer or string and expressions will be mathematical operators.\n",
    "# *\n",
    "# 'hello'\n",
    "# -87.8\n",
    "# -\n",
    "# /\n",
    "# +\n",
    "# 6\n",
    "\n"
   ]
  },
  {
   "cell_type": "code",
   "execution_count": null,
   "metadata": {},
   "outputs": [],
   "source": [
    "Ans:\n",
    "*  is expression\n",
    "'hello' is value\n",
    "-87.8 is value\n",
    "-   is expression\n",
    "/ is expression\n",
    "+ is expression\n",
    "6 value\n"
   ]
  },
  {
   "cell_type": "code",
   "execution_count": null,
   "metadata": {},
   "outputs": [],
   "source": [
    "2. What is the difference between string and variable?\n",
    "Ans: Variable is a entity which holds the data or value.\n",
    "    String is the type of alphanumerical data value or text value."
   ]
  },
  {
   "cell_type": "code",
   "execution_count": null,
   "metadata": {},
   "outputs": [],
   "source": [
    "3. Describe three different data types.\n",
    "Ans: \n",
    "    The three different data types are intiger, string and floating type. Integers will have\n",
    "    whole numbers, string will have alphanumerical values within the single coat or double \n",
    "    coat and Floating type of data will have floating values with dicimal point.\n",
    "    Example:\n",
    "        1,2,3,4, ... integer type of data\n",
    "        'kfsjajkaj' or \"orweuriwe\" string type of data\n",
    "        1.29, 4.5435 ... Floating type of data\n",
    "        \n",
    "    Boolian is another type of data which holds the value as True or False."
   ]
  },
  {
   "cell_type": "code",
   "execution_count": null,
   "metadata": {},
   "outputs": [],
   "source": [
    "4. What is an expression made up of? What do all expressions do?\n",
    "Ans: Expression is made up of operands and a mathemetical operators. The expression will perform\n",
    "    the given mathemetical operations on the operands and gives the result. example:\n",
    "    2+3 is as expression which gives the result as 5\n"
   ]
  },
  {
   "cell_type": "code",
   "execution_count": null,
   "metadata": {},
   "outputs": [],
   "source": [
    "5.This assignment statements, like spam = 10. What is the difference between an\n",
    "expression and a statement?\n",
    "\n",
    "The statement is a instruction given in the program to the computer operating system. Example:\n",
    "    instructing the computer to consider spam as variable containing value as 10. Where as \n",
    "    expression     is a statement with the mathematical operators in it, it is not only \n",
    "    instructing the computer but also it is expecting the computer to perform the given \n",
    "    mathematical operations and give back the result.\n",
    "    All expressions can be a statement but all statement can not be expressions.\n"
   ]
  },
  {
   "cell_type": "code",
   "execution_count": 2,
   "metadata": {},
   "outputs": [
    {
     "data": {
      "text/plain": [
       "23"
      ]
     },
     "execution_count": 2,
     "metadata": {},
     "output_type": "execute_result"
    }
   ],
   "source": [
    "#6. After running the following code, what does the variable bacon contain?\n",
    "bacon = 22\n",
    "bacon + 1 # is = bacon= bacon+1 = 22+1 = 23"
   ]
  },
  {
   "cell_type": "code",
   "execution_count": 4,
   "metadata": {},
   "outputs": [
    {
     "data": {
      "text/plain": [
       "'spamspamspam'"
      ]
     },
     "execution_count": 4,
     "metadata": {},
     "output_type": "execute_result"
    }
   ],
   "source": [
    "#7. What should the values of the following two terms be?\n",
    "'spam'+ 'spamspam' #Ans: 'spamspamspam'\n",
    "'spam' * 3         #Ans: 'spamspamspam' "
   ]
  },
  {
   "cell_type": "code",
   "execution_count": null,
   "metadata": {},
   "outputs": [],
   "source": [
    "8. Why is eggs a valid variable name while 100 is invalid?\n",
    "\n",
    "Ans: A variable name should start with only alphabitic charactor or _. In other words variable \n",
    "    name should not start with numeric or any special character except _. So eggs is a valid \n",
    "    where as 100 is invalid variable.\n",
    "    "
   ]
  },
  {
   "cell_type": "code",
   "execution_count": 7,
   "metadata": {},
   "outputs": [
    {
     "name": "stdout",
     "output_type": "stream",
     "text": [
      "456 1234 1234.0 456.0\n",
      "1234\n",
      "1234\n"
     ]
    }
   ],
   "source": [
    "# 9. What three functions can be used to get the integer, floating-point number, or string\n",
    "# version of a value?\n",
    "# Ans:int(), float() and str()\n",
    "a=1234\n",
    "b='456'\n",
    "c=str(a)\n",
    "print(int(b),str(a),float(a),float(b))\n",
    "print(str(a))\n",
    "print(c)"
   ]
  },
  {
   "cell_type": "code",
   "execution_count": 8,
   "metadata": {},
   "outputs": [
    {
     "data": {
      "text/plain": [
       "'I have eaten 99 burritos.'"
      ]
     },
     "execution_count": 8,
     "metadata": {},
     "output_type": "execute_result"
    }
   ],
   "source": [
    "# 10. Why does this expression cause an error? How can you fix it?\n",
    "# # 'I have eaten ' + 99 + ' burritos.'\n",
    "# Ans: The concantination of string through + operator can be done only with string type of operands.\n",
    "#     In the above expression 99 is a non string type which is causing this error. It can be fixed by\n",
    "#     having the 99 as string type by str type casting method.\n",
    "    \n",
    "'I have eaten ' + str(99) + ' burritos.'"
   ]
  },
  {
   "cell_type": "code",
   "execution_count": null,
   "metadata": {},
   "outputs": [],
   "source": []
  },
  {
   "cell_type": "code",
   "execution_count": null,
   "metadata": {},
   "outputs": [],
   "source": []
  },
  {
   "cell_type": "code",
   "execution_count": null,
   "metadata": {},
   "outputs": [],
   "source": []
  }
 ],
 "metadata": {
  "kernelspec": {
   "display_name": "Python 3",
   "language": "python",
   "name": "python3"
  },
  "language_info": {
   "codemirror_mode": {
    "name": "ipython",
    "version": 3
   },
   "file_extension": ".py",
   "mimetype": "text/x-python",
   "name": "python",
   "nbconvert_exporter": "python",
   "pygments_lexer": "ipython3",
   "version": "3.7.6"
  }
 },
 "nbformat": 4,
 "nbformat_minor": 4
}
